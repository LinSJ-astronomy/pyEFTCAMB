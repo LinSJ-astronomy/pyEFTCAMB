{
 "cells": [
  {
   "cell_type": "code",
   "execution_count": 1,
   "metadata": {},
   "outputs": [
    {
     "name": "stdout",
     "output_type": "stream",
     "text": [
      "camb path: /Users/linshijie/Desktop/research/AfterLeiden/eftcamb_py\n"
     ]
    }
   ],
   "source": [
    "# initial imports:\n",
    "import sys, platform, os\n",
    "import numpy as np\n",
    "import matplotlib.pyplot as plt\n",
    "import seaborn as sns\n",
    "from matplotlib import rc\n",
    "\n",
    "camb_installation_path = './../' \n",
    "camb_path = os.path.realpath(os.path.join(os.getcwd(),camb_installation_path))\n",
    "sys.path.insert(0,camb_path)\n",
    "print('camb path:', camb_path)\n",
    "import camb\n",
    "from camb import model, initialpower"
   ]
  },
  {
   "cell_type": "code",
   "execution_count": 2,
   "metadata": {},
   "outputs": [],
   "source": [
    "pureEFT_params= {'EFTflag':1,\n",
    "                 'PureEFTmodel':1,\n",
    "                 'EFTwDE':0,\n",
    "                 'PureEFTmodelOmega':3,\n",
    "                 'EFTOmega0':1.0,'EFTOmegaExp':1,\n",
    "                 'PureEFTmodelGamma1':0,\n",
    "                 'PureEFTmodelGamma2':0,\n",
    "                 'PureEFTmodelGamma3':0,\n",
    "                 'PureEFTmodelGamma4':0,\n",
    "                 'PureEFTmodelGamma5':0,\n",
    "                 'PureEFTmodelGamma6':0,\n",
    "                 }"
   ]
  },
  {
   "cell_type": "code",
   "execution_count": 3,
   "metadata": {},
   "outputs": [],
   "source": [
    "model_key = ['PureEFT'] \n",
    "model_par = [pureEFT_params]\n",
    "model = dict(zip(model_key,model_par))"
   ]
  },
  {
   "cell_type": "code",
   "execution_count": 4,
   "metadata": {},
   "outputs": [],
   "source": [
    "a = camb.set_params(H0=67.3, **model['PureEFT'])"
   ]
  },
  {
   "cell_type": "code",
   "execution_count": 5,
   "metadata": {},
   "outputs": [
    {
     "ename": "TypeError",
     "evalue": "CAMBparams.set_cosmology() got an unexpected keyword argument 'pureEFT_params'",
     "output_type": "error",
     "traceback": [
      "\u001b[0;31m---------------------------------------------------------------------------\u001b[0m",
      "\u001b[0;31mTypeError\u001b[0m                                 Traceback (most recent call last)",
      "Cell \u001b[0;32mIn[5], line 1\u001b[0m\n\u001b[0;32m----> 1\u001b[0m \u001b[43ma\u001b[49m\u001b[38;5;241;43m.\u001b[39;49m\u001b[43mset_cosmology\u001b[49m\u001b[43m(\u001b[49m\u001b[43mH0\u001b[49m\u001b[38;5;241;43m=\u001b[39;49m\u001b[38;5;241;43m67.3\u001b[39;49m\u001b[43m,\u001b[49m\u001b[43m \u001b[49m\u001b[43mombh2\u001b[49m\u001b[38;5;241;43m=\u001b[39;49m\u001b[38;5;241;43m0.022\u001b[39;49m\u001b[43m,\u001b[49m\u001b[43m \u001b[49m\u001b[43momch2\u001b[49m\u001b[38;5;241;43m=\u001b[39;49m\u001b[38;5;241;43m0.122\u001b[39;49m\u001b[43m,\u001b[49m\u001b[43m \u001b[49m\u001b[43mmnu\u001b[49m\u001b[38;5;241;43m=\u001b[39;49m\u001b[38;5;241;43m0.06\u001b[39;49m\u001b[43m,\u001b[49m\u001b[43m \u001b[49m\u001b[43momk\u001b[49m\u001b[38;5;241;43m=\u001b[39;49m\u001b[38;5;241;43m0\u001b[39;49m\u001b[43m,\u001b[49m\u001b[43m \u001b[49m\u001b[43mtau\u001b[49m\u001b[38;5;241;43m=\u001b[39;49m\u001b[38;5;241;43m0.06\u001b[39;49m\u001b[43m,\u001b[49m\u001b[43m \u001b[49m\u001b[43mpureEFT_params\u001b[49m\u001b[38;5;241;43m=\u001b[39;49m\u001b[43mpureEFT_params\u001b[49m\u001b[43m)\u001b[49m\n",
      "\u001b[0;31mTypeError\u001b[0m: CAMBparams.set_cosmology() got an unexpected keyword argument 'pureEFT_params'"
     ]
    }
   ],
   "source": [
    "a.set_cosmology(H0=67.3, ombh2=0.022, omch2=0.122, mnu=0.06, omk=0, tau=0.06, pureEFT_params=pureEFT_params)"
   ]
  },
  {
   "cell_type": "code",
   "execution_count": 6,
   "metadata": {},
   "outputs": [
    {
     "name": "stdout",
     "output_type": "stream",
     "text": [
      "class: <EFTCAMB>\n",
      " EFTflag = 1\n",
      " PureEFTmodel = 1\n",
      " AltParEFTmodel = 5\n",
      " DesignerEFTmodel = 0\n",
      " FullMappingEFTmodel = 192\n",
      " EFT_evolve_delta_phi  = False\n",
      " EFT_evolve_metric_h  = False\n",
      " EFT_skip_stability  = True\n",
      " EFT_ghost_math_stability  = True\n",
      " EFT_mass_math_stability = False\n",
      " EFT_ghost_stability = False\n",
      " EFT_gradient_stability = True\n",
      " EFT_mass_stability = True\n",
      " EFT_mass_stability_rate = 0.0\n",
      " EFT_additional_priors = True\n",
      " EFT_positivity_bounds = True\n",
      " EFT_minkowski_limit = False\n",
      " EFTCAMB_feedback_level = 1072693248\n",
      " EFTCAMB_back_turn_on = 1.0\n",
      " EFTCAMB_pert_turn_on = 2.1219957915e-314\n",
      " EFTCAMB_GR_threshold = 1e-08\n",
      " EFTCAMB_stability_time = 0.01\n",
      " EFTCAMB_stability_threshold = 1e-08\n",
      " EFTCAMB_model_is_designer = True\n",
      " \n"
     ]
    }
   ],
   "source": [
    "print(a.EFTCAMB)"
   ]
  },
  {
   "cell_type": "code",
   "execution_count": 7,
   "metadata": {},
   "outputs": [
    {
     "data": {
      "text/plain": [
       "{'EFTflag': 1,\n",
       " 'PureEFTmodel': 1,\n",
       " 'EFT_ghost_math_stability': False,\n",
       " 'EFT_mass_math_stability': False,\n",
       " 'EFT_ghost_stability': True,\n",
       " 'EFT_gradient_stability': True,\n",
       " 'EFT_mass_stability': False,\n",
       " 'EFT_mass_stability_rate': 10.0,\n",
       " 'EFT_additional_priors': True,\n",
       " 'EFT_positivity_bounds': False,\n",
       " 'EFT_minkowski_limit': False,\n",
       " 'EFT_check_QSA': False,\n",
       " 'EFT_QSA_threshold': 0.1,\n",
       " 'EFT_QSA_time': 1.0,\n",
       " 'EFT_QSA_k': 1.0,\n",
       " 'feedback_level': 1,\n",
       " 'EFTCAMB_back_turn_on': 1e-08,\n",
       " 'EFTCAMB_turn_on_time': 0.01,\n",
       " 'EFTCAMB_GR_threshold': 1e-08,\n",
       " 'EFTCAMB_stability_time': 1e-10,\n",
       " 'EFTCAMB_stability_threshold': 0.0,\n",
       " 'EFTCAMB_use_background': False,\n",
       " 'EFTCAMB_evolve_delta_phi': False,\n",
       " 'EFTCAMB_evolve_metric_h': False,\n",
       " 'EFTCAMB_skip_stability': False,\n",
       " 'PureEFTmodelOmega': 3,\n",
       " 'EFTwDE': 0,\n",
       " 'PureEFTmodelGamma1': 0,\n",
       " 'PureEFTmodelGamma2': 0,\n",
       " 'PureEFTmodelGamma3': 0,\n",
       " 'PureEFTmodelGamma4': 0,\n",
       " 'PureEFTmodelGamma5': 0,\n",
       " 'PureEFTmodelGamma6': 0,\n",
       " 'PureEFTmodelOmega_ODE': 0,\n",
       " 'PureEFTmodelGamma1_ODE': 0,\n",
       " 'PureEFTmodelGamma2_ODE': 0,\n",
       " 'PureEFTmodelGamma3_ODE': 0,\n",
       " 'PureEFTmodelGamma4_ODE': 0,\n",
       " 'PureEFTmodelGamma5_ODE': 0,\n",
       " 'PureEFTmodelGamma6_ODE': 0,\n",
       " 'PureEFTHorndeski': False,\n",
       " 'EFTOmega0': 1.0,\n",
       " 'EFTOmegaExp': 1}"
      ]
     },
     "execution_count": 7,
     "metadata": {},
     "output_type": "execute_result"
    }
   ],
   "source": [
    "a.EFTCAMB.read_parameters()"
   ]
  },
  {
   "cell_type": "code",
   "execution_count": null,
   "metadata": {},
   "outputs": [],
   "source": []
  }
 ],
 "metadata": {
  "kernelspec": {
   "display_name": "pyeftcamb",
   "language": "python",
   "name": "python3"
  },
  "language_info": {
   "codemirror_mode": {
    "name": "ipython",
    "version": 3
   },
   "file_extension": ".py",
   "mimetype": "text/x-python",
   "name": "python",
   "nbconvert_exporter": "python",
   "pygments_lexer": "ipython3",
   "version": "3.12.4"
  }
 },
 "nbformat": 4,
 "nbformat_minor": 2
}
